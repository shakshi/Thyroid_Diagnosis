{
 "cells": [
  {
   "cell_type": "code",
   "execution_count": 1,
   "metadata": {
    "collapsed": true
   },
   "outputs": [],
   "source": [
    "import pandas as pd\n",
    "import numpy as np\n",
    "\n",
    "train_df= pd.read_csv('C:\\\\Users\\\\shakshi\\\\Desktop\\\\dataset\\\\ann-train.txt',sep=\" \",header=None)\n",
    "test_df= pd.read_csv('C:\\\\Users\\\\shakshi\\\\Desktop\\\\dataset\\\\ann-test.txt',sep=\" \",header=None)\n",
    "\n",
    "train_df=train_df.drop(train_df.columns[[22,23]], axis=1)  # df.columns is zero-based pd.Index\n",
    "test_df=test_df.drop(test_df.columns[[22,23]], axis=1)  "
   ]
  },
  {
   "cell_type": "code",
   "execution_count": 2,
   "metadata": {
    "collapsed": true
   },
   "outputs": [],
   "source": [
    "train_df.columns=['Age', 'Sex', 'On_thyroxine', 'Query_on_thyroxine', 'On_antithyroid_medication', 'Sick', 'Pregnant', 'Thyroid_surgery', 'I131_treatment', 'Query_hypothyroid', 'Query_hyperthyroid', 'Lithium', 'Goitre', 'Tumor', 'Hypopituitary', 'Psych', 'TSH', 'T3', 'TT4', 'T4U', 'FTI','Output']\n",
    "test_df.columns=['Age', 'Sex', 'On_thyroxine', 'Query_on_thyroxine', 'On_antithyroid_medication', 'Sick', 'Pregnant', 'Thyroid_surgery', 'I131_treatment', 'Query_hypothyroid', 'Query_hyperthyroid', 'Lithium', 'Goitre', 'Tumor', 'Hypopituitary', 'Psych', 'TSH', 'T3', 'TT4', 'T4U', 'FTI','Output']"
   ]
  },
  {
   "cell_type": "code",
   "execution_count": 3,
   "metadata": {},
   "outputs": [
    {
     "name": "stdout",
     "output_type": "stream",
     "text": [
      "Age                          0\n",
      "Sex                          0\n",
      "On_thyroxine                 0\n",
      "Query_on_thyroxine           0\n",
      "On_antithyroid_medication    0\n",
      "Sick                         0\n",
      "Pregnant                     0\n",
      "Thyroid_surgery              0\n",
      "I131_treatment               0\n",
      "Query_hypothyroid            0\n",
      "Query_hyperthyroid           0\n",
      "Lithium                      0\n",
      "Goitre                       0\n",
      "Tumor                        0\n",
      "Hypopituitary                0\n",
      "Psych                        0\n",
      "TSH                          0\n",
      "T3                           0\n",
      "TT4                          0\n",
      "T4U                          0\n",
      "FTI                          0\n",
      "Output                       0\n",
      "dtype: int64\n",
      "Age                          0\n",
      "Sex                          0\n",
      "On_thyroxine                 0\n",
      "Query_on_thyroxine           0\n",
      "On_antithyroid_medication    0\n",
      "Sick                         0\n",
      "Pregnant                     0\n",
      "Thyroid_surgery              0\n",
      "I131_treatment               0\n",
      "Query_hypothyroid            0\n",
      "Query_hyperthyroid           0\n",
      "Lithium                      0\n",
      "Goitre                       0\n",
      "Tumor                        0\n",
      "Hypopituitary                0\n",
      "Psych                        0\n",
      "TSH                          0\n",
      "T3                           0\n",
      "TT4                          0\n",
      "T4U                          0\n",
      "FTI                          0\n",
      "Output                       0\n",
      "dtype: int64\n"
     ]
    }
   ],
   "source": [
    "# To check Null values\n",
    "print(train_df.isnull().sum())\n",
    "print(test_df.isnull().sum())"
   ]
  },
  {
   "cell_type": "code",
   "execution_count": 4,
   "metadata": {},
   "outputs": [
    {
     "data": {
      "text/plain": [
       "<matplotlib.axes._subplots.AxesSubplot at 0x28be2ea8128>"
      ]
     },
     "execution_count": 4,
     "metadata": {},
     "output_type": "execute_result"
    },
    {
     "data": {
      "image/png": "[encoded data removed]",
      "text/plain": [
       "<matplotlib.figure.Figure at 0x28be3245e80>"
      ]
     },
     "metadata": {},
     "output_type": "display_data"
    }
   ],
   "source": [
    "import matplotlib.pyplot as plt\n",
    "get_ipython().magic('matplotlib inline')\n",
    "import seaborn as sns\n",
    "# To check correlation between parameters\n",
    "sns.heatmap(train_df.corr())"
   ]
  },
  {
   "cell_type": "code",
   "execution_count": 5,
   "metadata": {},
   "outputs": [
    {
     "name": "stdout",
     "output_type": "stream",
     "text": [
      "1      93\n",
      "2     191\n",
      "3    3488\n",
      "Name: Output, dtype: int64\n",
      "1      73\n",
      "2     177\n",
      "3    3178\n",
      "Name: Output, dtype: int64\n"
     ]
    },
    {
     "data": {
      "image/png": "[encoded data removed]",
      "text/plain": [
       "<matplotlib.figure.Figure at 0x28be2f21860>"
      ]
     },
     "metadata": {},
     "output_type": "display_data"
    }
   ],
   "source": [
    "count_classes = pd.value_counts(train_df['Output'], sort = True).sort_index()\n",
    "print(count_classes)\n",
    "\n",
    "count_classes.plot(kind = 'bar')\n",
    "plt.title(\"Thyroid classes histogram\")\n",
    "plt.xlabel(\"Class\")\n",
    "plt.ylabel(\"Frequency\")\n",
    "\n",
    "\n",
    "count_classes2 = pd.value_counts(test_df['Output'], sort = True).sort_index()\n",
    "print(count_classes2)"
   ]
  },
  {
   "cell_type": "code",
   "execution_count": 6,
   "metadata": {},
   "outputs": [
    {
     "data": {
      "text/plain": [
       "Text(0,0.5,'Frequency')"
      ]
     },
     "execution_count": 6,
     "metadata": {},
     "output_type": "execute_result"
    },
    {
     "data": {
      "image/png": "[encoded data removed]",
      "text/plain": [
       "<matplotlib.figure.Figure at 0x28be3006748>"
      ]
     },
     "metadata": {},
     "output_type": "display_data"
    }
   ],
   "source": [
    "count_classes2.plot(kind = 'bar')\n",
    "plt.title(\"Thyroid classes histogram\")\n",
    "plt.xlabel(\"Class\")\n",
    "plt.ylabel(\"Frequency\")\n"
   ]
  },
  {
   "cell_type": "code",
   "execution_count": 7,
   "metadata": {},
   "outputs": [
    {
     "name": "stdout",
     "output_type": "stream",
     "text": [
      "(3772, 21)\n",
      "(3772,)\n",
      "(3428, 21)\n",
      "(3428,)\n"
     ]
    }
   ],
   "source": [
    "X_train= train_df.drop(['Output'],axis=1)\n",
    "y_train=train_df['Output']\n",
    "X_test= test_df.drop(['Output'],axis=1)\n",
    "y_test=test_df['Output']\n",
    "\n",
    "print (X_train.shape)\n",
    "print (y_train.shape)\n",
    "print (X_test.shape)\n",
    "print (y_test.shape)"
   ]
  },
  {
   "cell_type": "code",
   "execution_count": 8,
   "metadata": {},
   "outputs": [
    {
     "name": "stdout",
     "output_type": "stream",
     "text": [
      "Logistic Regression Accuracy: 92.85297549591598\n",
      "F1 Score 0.36369651321931284\n",
      "Precision Score 0.6428084526244036\n",
      "Recall Score 0.35616438356164387\n"
     ]
    },
    {
     "name": "stderr",
     "output_type": "stream",
     "text": [
      "C:\\ProgramData\\Anaconda3\\lib\\site-packages\\sklearn\\metrics\\classification.py:1135: UndefinedMetricWarning: F-score is ill-defined and being set to 0.0 in labels with no predicted samples.\n",
      "  'precision', 'predicted', average, warn_for)\n",
      "C:\\ProgramData\\Anaconda3\\lib\\site-packages\\sklearn\\metrics\\classification.py:1135: UndefinedMetricWarning: Precision is ill-defined and being set to 0.0 in labels with no predicted samples.\n",
      "  'precision', 'predicted', average, warn_for)\n"
     ]
    }
   ],
   "source": [
    "from sklearn.linear_model import LogisticRegression\n",
    "from sklearn.metrics import classification_report,confusion_matrix, f1_score, precision_score, recall_score\n",
    "\n",
    "logreg = LogisticRegression()\n",
    "logreg.fit(X_train, y_train)\n",
    "log_pred= logreg.predict(X_test)\n",
    "log_acc=logreg.score(X_test, y_test) * 100\n",
    "\n",
    "print(\"Logistic Regression Accuracy:\",log_acc)\n",
    "print(\"F1 Score\",f1_score(y_test, log_pred, average=\"macro\"))\n",
    "print(\"Precision Score\",precision_score(y_test, log_pred, average=\"macro\"))\n",
    "print(\"Recall Score\",recall_score(y_test, log_pred, average=\"macro\"))  \n",
    "# A Plain Algo can give 92.707% accuracy- as imbalanced dataset"
   ]
  },
  {
   "cell_type": "code",
   "execution_count": 9,
   "metadata": {},
   "outputs": [
    {
     "name": "stdout",
     "output_type": "stream",
     "text": [
      "Logistic regression Multinomial Accuracy : 93.05717619603267\n",
      "[[  12    1   60]\n",
      " [   0    0  177]\n",
      " [   0    0 3178]]\n",
      "F1 Score 0.41546857481047933\n"
     ]
    }
   ],
   "source": [
    "#Multinomial Logistic Model\n",
    "\n",
    "mul_lr = LogisticRegression(multi_class='multinomial', solver='newton-cg').fit(X_train, y_train)\n",
    "mul_lr_pred= mul_lr.predict(X_test)\n",
    "print (\"Logistic regression Multinomial Accuracy :\", mul_lr.score(X_test, y_test) * 100)\n",
    "print(confusion_matrix(y_test,mul_lr_pred))\n",
    "print(\"F1 Score\",f1_score(y_test, mul_lr_pred, average=\"macro\"))\n"
   ]
  },
  {
   "cell_type": "code",
   "execution_count": 10,
   "metadata": {},
   "outputs": [
    {
     "name": "stdout",
     "output_type": "stream",
     "text": [
      "Linear SVM Accuracy: 93.87397899649942\n",
      "[[  44    0   29]\n",
      " [   0    0  177]\n",
      " [   4    0 3174]]\n",
      "F1 Score 0.565083589786243\n"
     ]
    },
    {
     "name": "stderr",
     "output_type": "stream",
     "text": [
      "C:\\ProgramData\\Anaconda3\\lib\\site-packages\\sklearn\\metrics\\classification.py:1135: UndefinedMetricWarning: F-score is ill-defined and being set to 0.0 in labels with no predicted samples.\n",
      "  'precision', 'predicted', average, warn_for)\n"
     ]
    }
   ],
   "source": [
    "from sklearn import svm\n",
    "svmlin = svm.LinearSVC()\n",
    "svmlin.fit(X_train, y_train) \n",
    "svm_pred= svmlin.predict(X_test)\n",
    "\n",
    "acc= svmlin.score(X_test,y_test)*100\n",
    "print(\"Linear SVM Accuracy:\", acc)\n",
    "print(confusion_matrix(y_test,svm_pred))\n",
    "print(\"F1 Score\",f1_score(y_test, svm_pred, average=\"macro\"))"
   ]
  },
  {
   "cell_type": "code",
   "execution_count": 11,
   "metadata": {},
   "outputs": [
    {
     "name": "stdout",
     "output_type": "stream",
     "text": [
      "RBF SVM Accuracy:  92.7071178529755\n"
     ]
    }
   ],
   "source": [
    "svm_rbf = svm.SVC(decision_function_shape='ovo')\n",
    "svm_rbf.fit(X_train, y_train) \n",
    "print(\"RBF SVM Accuracy: \",svm_rbf.score(X_test,y_test)*100)\n"
   ]
  },
  {
   "cell_type": "code",
   "execution_count": 12,
   "metadata": {},
   "outputs": [
    {
     "name": "stderr",
     "output_type": "stream",
     "text": [
      "C:\\ProgramData\\Anaconda3\\lib\\site-packages\\sklearn\\utils\\deprecation.py:77: DeprecationWarning: Function _ratio_float is deprecated; Use a float for 'ratio' is deprecated from version 0.2. The support will be removed in 0.4. Use a dict, str, or a callable instead.\n",
      "  warnings.warn(msg, category=DeprecationWarning)\n"
     ]
    }
   ],
   "source": [
    "from imblearn.over_sampling import SMOTE\n",
    "sm = SMOTE(random_state=12, ratio = 1.0)\n",
    "X_train_res, y_train_res = sm.fit_sample(X_train, y_train)"
   ]
  },
  {
   "cell_type": "code",
   "execution_count": 13,
   "metadata": {},
   "outputs": [
    {
     "name": "stdout",
     "output_type": "stream",
     "text": [
      "Linear SVM Accuracy: 86.05600933488915\n",
      "[[  69    4    0]\n",
      " [   4   98   75]\n",
      " [  58  337 2783]]\n",
      "F1 Score 0.6389287566342882\n"
     ]
    }
   ],
   "source": [
    "svmlin.fit(X_train_res, y_train_res) \n",
    "svm_pred= svmlin.predict(X_test)\n",
    "\n",
    "acc= svmlin.score(X_test,y_test)*100\n",
    "print(\"Linear SVM Accuracy:\", acc)\n",
    "print(confusion_matrix(y_test,svm_pred))\n",
    "print(\"F1 Score\",f1_score(y_test, svm_pred, average=\"macro\"))"
   ]
  },
  {
   "cell_type": "code",
   "execution_count": 16,
   "metadata": {},
   "outputs": [
    {
     "name": "stdout",
     "output_type": "stream",
     "text": [
      "(3772, 21)\n",
      "(10464, 21)\n"
     ]
    }
   ],
   "source": [
    "print(X_train.shape)\n",
    "print(X_train_res.shape)"
   ]
  },
  {
   "cell_type": "code",
   "execution_count": 22,
   "metadata": {},
   "outputs": [
    {
     "name": "stdout",
     "output_type": "stream",
     "text": [
      "93\n",
      "191\n",
      "3488\n"
     ]
    }
   ],
   "source": [
    "print(np.count_nonzero(y_train==1))\n",
    "print(np.count_nonzero(y_train==2))\n",
    "print(np.count_nonzero(y_train==3))"
   ]
  },
  {
   "cell_type": "code",
   "execution_count": 23,
   "metadata": {},
   "outputs": [
    {
     "name": "stdout",
     "output_type": "stream",
     "text": [
      "3488\n",
      "3488\n",
      "3488\n"
     ]
    }
   ],
   "source": [
    "print(np.count_nonzero(y_train_res==1))\n",
    "print(np.count_nonzero(y_train_res==2))\n",
    "print(np.count_nonzero(y_train_res==3))"
   ]
  },
  {
   "cell_type": "code",
   "execution_count": 26,
   "metadata": {},
   "outputs": [
    {
     "name": "stdout",
     "output_type": "stream",
     "text": [
      "Logistic regression Multinomial Accuracy : 76.22520420070012\n",
      "[[  66    6    1]\n",
      " [   0  113   64]\n",
      " [  39  705 2434]]\n",
      "F1 Score 0.6082808051247625\n"
     ]
    }
   ],
   "source": [
    "#Multinomial Logistic Model\n",
    "\n",
    "mul_lr = LogisticRegression(multi_class='multinomial', solver='newton-cg').fit(X_train_res, y_train_res)\n",
    "mul_lr_pred= mul_lr.predict(X_test)\n",
    "print (\"Logistic regression Multinomial Accuracy :\", mul_lr.score(X_test, y_test) * 100)\n",
    "print(confusion_matrix(y_test,mul_lr_pred))\n",
    "print(\"F1 Score\",f1_score(y_test, mul_lr_pred, average=\"macro\"))"
   ]
  },
  {
   "cell_type": "code",
   "execution_count": 37,
   "metadata": {},
   "outputs": [
    {
     "name": "stdout",
     "output_type": "stream",
     "text": [
      "Test Accuracy  :  0.9927071178529755\n",
      " Confusion matrix :\n",
      " [[  72    0    1]\n",
      " [   0  177    0]\n",
      " [   9   15 3154]]\n",
      "F1 Score 0.9634889841242166\n"
     ]
    }
   ],
   "source": [
    "from sklearn.ensemble import RandomForestClassifier\n",
    "clf = RandomForestClassifier()\n",
    "clf.fit(X_train, y_train)\n",
    "predictions = clf.predict(X_test)\n",
    " \n",
    "print (\"Test Accuracy  : \", clf.score(X_test,y_test))\n",
    "print (\" Confusion matrix :\\n\", confusion_matrix(y_test, predictions))\n",
    "print(\"F1 Score\",f1_score(y_test, predictions, average=\"macro\"))"
   ]
  },
  {
   "cell_type": "code",
   "execution_count": 38,
   "metadata": {},
   "outputs": [
    {
     "name": "stdout",
     "output_type": "stream",
     "text": [
      "Test Accuracy  :  0.9900816802800467\n",
      " Confusion matrix:\n",
      "  [[  71    0    2]\n",
      " [   0  176    1]\n",
      " [  11   20 3147]]\n",
      "F1 Score 0.9514852728410391\n"
     ]
    }
   ],
   "source": [
    "clf = RandomForestClassifier()\n",
    "clf.fit(X_train_res, y_train_res)\n",
    "predictions = clf.predict(X_test)\n",
    " \n",
    "print (\"Test Accuracy  : \", clf.score(X_test,y_test))\n",
    "print (\" Confusion matrix:\\n \", confusion_matrix(y_test, predictions))\n",
    "print(\"F1 Score\",f1_score(y_test, predictions, average=\"macro\"))"
   ]
  },
  {
   "cell_type": "code",
   "execution_count": 39,
   "metadata": {
    "collapsed": true
   },
   "outputs": [],
   "source": [
    "# Random Forest without over sampling works best in terms pf acuracy as weel as F1 score in Thyroid dataset"
   ]
  },
  {
   "cell_type": "code",
   "execution_count": 40,
   "metadata": {
    "collapsed": true
   },
   "outputs": [],
   "source": [
    "# Need to try Artificial Neural Network for it"
   ]
  },
  {
   "cell_type": "code",
   "execution_count": null,
   "metadata": {
    "collapsed": true
   },
   "outputs": [],
   "source": []
  }
 ],
 "metadata": {
  "kernelspec": {
   "display_name": "Python 3",
   "language": "python",
   "name": "python3"
  },
  "language_info": {
   "codemirror_mode": {
    "name": "ipython",
    "version": 3
   },
   "file_extension": ".py",
   "mimetype": "text/x-python",
   "name": "python",
   "nbconvert_exporter": "python",
   "pygments_lexer": "ipython3",
   "version": "3.6.3"
  }
 },
 "nbformat": 4,
 "nbformat_minor": 2
}
